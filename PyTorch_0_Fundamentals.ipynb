{
  "nbformat": 4,
  "nbformat_minor": 0,
  "metadata": {
    "colab": {
      "provenance": [],
      "gpuType": "T4",
      "authorship_tag": "ABX9TyOyylUdBkrFA0E6C0Xmdw8J",
      "include_colab_link": true
    },
    "kernelspec": {
      "name": "python3",
      "display_name": "Python 3"
    },
    "language_info": {
      "name": "python"
    },
    "accelerator": "GPU"
  },
  "cells": [
    {
      "cell_type": "markdown",
      "metadata": {
        "id": "view-in-github",
        "colab_type": "text"
      },
      "source": [
        "<a href=\"https://colab.research.google.com/github/yiwenwangANU/pytorch/blob/main/PyTorch_0_Fundamentals.ipynb\" target=\"_parent\"><img src=\"https://colab.research.google.com/assets/colab-badge.svg\" alt=\"Open In Colab\"/></a>"
      ]
    },
    {
      "cell_type": "code",
      "execution_count": null,
      "metadata": {
        "id": "ub9IV_M8zF17"
      },
      "outputs": [],
      "source": [
        "import torch"
      ]
    },
    {
      "cell_type": "code",
      "source": [
        "tensor = torch.rand(3, 4)\n",
        "tensor, tensor.ndim, tensor.shape"
      ],
      "metadata": {
        "colab": {
          "base_uri": "https://localhost:8080/"
        },
        "id": "D6KpH-MxzLZU",
        "outputId": "4295a9cd-6f58-4f38-ecb3-f6f9d573d6c5"
      },
      "execution_count": null,
      "outputs": [
        {
          "output_type": "execute_result",
          "data": {
            "text/plain": [
              "(tensor([[0.5740, 0.6112, 0.7593, 0.9389],\n",
              "         [0.9893, 0.3476, 0.4085, 0.5784],\n",
              "         [0.5256, 0.7014, 0.2980, 0.5560]]),\n",
              " 2,\n",
              " torch.Size([3, 4]))"
            ]
          },
          "metadata": {},
          "execution_count": 4
        }
      ]
    },
    {
      "cell_type": "code",
      "source": [
        "tensor_float32 = torch.arange(1, 10, step=1, dtype=torch.float32, device=None, requires_grad=False)\n",
        "tensor_float32"
      ],
      "metadata": {
        "colab": {
          "base_uri": "https://localhost:8080/"
        },
        "id": "nNtvdToszdVZ",
        "outputId": "f242b42d-94d9-47de-a5c8-9d942705e2c5"
      },
      "execution_count": null,
      "outputs": [
        {
          "output_type": "execute_result",
          "data": {
            "text/plain": [
              "tensor([1., 2., 3., 4., 5., 6., 7., 8., 9.])"
            ]
          },
          "metadata": {},
          "execution_count": 6
        }
      ]
    },
    {
      "cell_type": "code",
      "source": [
        "tensor_float16 = tensor_float32.to(torch.float16)\n",
        "tensor_float16"
      ],
      "metadata": {
        "colab": {
          "base_uri": "https://localhost:8080/"
        },
        "id": "BEWwz3Zk1SAP",
        "outputId": "304f5b6d-e767-4768-8d98-f8430aeda33a"
      },
      "execution_count": null,
      "outputs": [
        {
          "output_type": "execute_result",
          "data": {
            "text/plain": [
              "tensor([1., 2., 3., 4., 5., 6., 7., 8., 9.], dtype=torch.float16)"
            ]
          },
          "metadata": {},
          "execution_count": 10
        }
      ]
    },
    {
      "cell_type": "code",
      "source": [
        "torch.matmul(tensor, tensor.T)  # 1. inner dims match 2. results have shape of outer dims"
      ],
      "metadata": {
        "colab": {
          "base_uri": "https://localhost:8080/"
        },
        "id": "vVfeLFJE125u",
        "outputId": "3cbeb225-3748-4efc-fe98-a66ada40435f"
      },
      "execution_count": null,
      "outputs": [
        {
          "output_type": "execute_result",
          "data": {
            "text/plain": [
              "tensor([[2.1612, 1.6335, 1.4787],\n",
              "        [1.6335, 1.6008, 1.2071],\n",
              "        [1.4787, 1.2071, 1.1662]])"
            ]
          },
          "metadata": {},
          "execution_count": 11
        }
      ]
    },
    {
      "cell_type": "code",
      "source": [
        "tensor_1_1_12 = tensor.reshape(1, 1, 12)\n",
        "tensor_1_1_12"
      ],
      "metadata": {
        "colab": {
          "base_uri": "https://localhost:8080/"
        },
        "id": "Zwqw8YjE2ymo",
        "outputId": "e66269c9-4b32-4a1b-f3ea-e4cad51e6fd2"
      },
      "execution_count": null,
      "outputs": [
        {
          "output_type": "execute_result",
          "data": {
            "text/plain": [
              "tensor([[[0.5740, 0.6112, 0.7593, 0.9389, 0.9893, 0.3476, 0.4085, 0.5784,\n",
              "          0.5256, 0.7014, 0.2980, 0.5560]]])"
            ]
          },
          "metadata": {},
          "execution_count": 15
        }
      ]
    },
    {
      "cell_type": "code",
      "source": [
        "tensor_4_3 = tensor_1_1_12.reshape(4, 3)\n",
        "tensor_4_3"
      ],
      "metadata": {
        "colab": {
          "base_uri": "https://localhost:8080/"
        },
        "id": "wWP2k-nK3eBq",
        "outputId": "091916f2-c085-4f02-bec0-c5c6579ed48f"
      },
      "execution_count": null,
      "outputs": [
        {
          "output_type": "execute_result",
          "data": {
            "text/plain": [
              "tensor([[0.5740, 0.6112, 0.7593],\n",
              "        [0.9389, 0.9893, 0.3476],\n",
              "        [0.4085, 0.5784, 0.5256],\n",
              "        [0.7014, 0.2980, 0.5560]])"
            ]
          },
          "metadata": {},
          "execution_count": 16
        }
      ]
    },
    {
      "cell_type": "code",
      "source": [
        "tensor_squeeze = tensor_1_1_12.squeeze()\n",
        "tensor_squeeze"
      ],
      "metadata": {
        "colab": {
          "base_uri": "https://localhost:8080/"
        },
        "id": "SSpv0meM30pE",
        "outputId": "957c76d1-2bbc-4977-fcb0-cac73bc4c8c3"
      },
      "execution_count": null,
      "outputs": [
        {
          "output_type": "execute_result",
          "data": {
            "text/plain": [
              "tensor([0.5740, 0.6112, 0.7593, 0.9389, 0.9893, 0.3476, 0.4085, 0.5784, 0.5256,\n",
              "        0.7014, 0.2980, 0.5560])"
            ]
          },
          "metadata": {},
          "execution_count": 20
        }
      ]
    },
    {
      "cell_type": "code",
      "source": [
        "tensor_unsqueeze = tensor_squeeze.unsqueeze(dim=0)\n",
        "tensor_unsqueeze"
      ],
      "metadata": {
        "colab": {
          "base_uri": "https://localhost:8080/"
        },
        "id": "g7AK3dlT4Q73",
        "outputId": "248d1ea6-4dae-4d9f-9817-623528dc9830"
      },
      "execution_count": null,
      "outputs": [
        {
          "output_type": "execute_result",
          "data": {
            "text/plain": [
              "tensor([[0.5740, 0.6112, 0.7593, 0.9389, 0.9893, 0.3476, 0.4085, 0.5784, 0.5256,\n",
              "         0.7014, 0.2980, 0.5560]])"
            ]
          },
          "metadata": {},
          "execution_count": 22
        }
      ]
    },
    {
      "cell_type": "code",
      "source": [
        "# Create a 4D tensor with shape [batch, height, width, channels]\n",
        "# Assume batch=2, height=20, width=20, channels=3\n",
        "x = torch.randn(2, 20, 20, 3)\n",
        "print(\"Original tensor shape:\", x.shape)\n",
        "\n",
        "# Permute to change the tensor to [batch, channels, height, width]\n",
        "x_permuted = x.permute(0, 3, 1, 2)\n",
        "print(\"Permuted tensor shape:\", x_permuted.shape)\n",
        "\n",
        "## Permute return a view of x, which means it will change the value of original if its value changes"
      ],
      "metadata": {
        "colab": {
          "base_uri": "https://localhost:8080/"
        },
        "id": "4GZLTmzS6zdj",
        "outputId": "1ac064c6-e992-4f30-8ec1-c9a3ac32054a"
      },
      "execution_count": null,
      "outputs": [
        {
          "output_type": "stream",
          "name": "stdout",
          "text": [
            "Original tensor shape: torch.Size([2, 20, 20, 3])\n",
            "Permuted tensor shape: torch.Size([2, 3, 20, 20])\n"
          ]
        }
      ]
    },
    {
      "cell_type": "code",
      "source": [
        "import torch\n",
        "\n",
        "torch.rand(3, 3)"
      ],
      "metadata": {
        "id": "U0DscYVf8y5E",
        "colab": {
          "base_uri": "https://localhost:8080/"
        },
        "outputId": "8601225a-5c23-4b34-94c7-af7d156e5968"
      },
      "execution_count": 1,
      "outputs": [
        {
          "output_type": "execute_result",
          "data": {
            "text/plain": [
              "tensor([[0.5587, 0.0053, 0.1830],\n",
              "        [0.8970, 0.0722, 0.6939],\n",
              "        [0.9355, 0.8369, 0.1814]])"
            ]
          },
          "metadata": {},
          "execution_count": 1
        }
      ]
    },
    {
      "cell_type": "code",
      "source": [
        "RANDOM_SEED = 42\n",
        "torch.manual_seed(RANDOM_SEED)\n",
        "tensor_A = torch.rand(3, 3)\n",
        "torch.manual_seed(RANDOM_SEED)\n",
        "tensor_B = torch.rand(3, 3)\n",
        "print(tensor_A)\n",
        "print(tensor_B)"
      ],
      "metadata": {
        "colab": {
          "base_uri": "https://localhost:8080/"
        },
        "id": "Y92tLb4GZ5-k",
        "outputId": "5bb16d56-8cd6-4448-b846-25abb6cf6406"
      },
      "execution_count": 3,
      "outputs": [
        {
          "output_type": "stream",
          "name": "stdout",
          "text": [
            "tensor([[0.8823, 0.9150, 0.3829],\n",
            "        [0.9593, 0.3904, 0.6009],\n",
            "        [0.2566, 0.7936, 0.9408]])\n",
            "tensor([[0.8823, 0.9150, 0.3829],\n",
            "        [0.9593, 0.3904, 0.6009],\n",
            "        [0.2566, 0.7936, 0.9408]])\n"
          ]
        }
      ]
    },
    {
      "cell_type": "code",
      "source": [
        "import torch\n",
        "\n",
        "torch.manual_seed(0)\n",
        "tensor_A = torch.rand(7, 7)\n",
        "torch.manual_seed(0)\n",
        "tensor_B = torch.rand(1, 7)\n",
        "result = torch.matmul(tensor_A, tensor_B.T)\n",
        "print(result)"
      ],
      "metadata": {
        "colab": {
          "base_uri": "https://localhost:8080/"
        },
        "id": "6PkqkE9abSAP",
        "outputId": "35fdd5dc-9e04-4e0e-8554-523e5ebe02a0"
      },
      "execution_count": 8,
      "outputs": [
        {
          "output_type": "stream",
          "name": "stdout",
          "text": [
            "tensor([[1.5985],\n",
            "        [1.1173],\n",
            "        [1.2741],\n",
            "        [1.6838],\n",
            "        [0.8279],\n",
            "        [1.0347],\n",
            "        [1.2498]])\n"
          ]
        }
      ]
    },
    {
      "cell_type": "code",
      "source": [],
      "metadata": {
        "id": "TD9elWfYkWW5"
      },
      "execution_count": null,
      "outputs": []
    },
    {
      "cell_type": "code",
      "source": [
        "import torch\n",
        "\n",
        "torch.manual_seed(1234)\n",
        "tensor_A = torch.rand(2, 3).to('cuda')\n",
        "tensor_B = torch.rand(2, 3).to('cuda')\n",
        "tensor_A, tensor_B"
      ],
      "metadata": {
        "colab": {
          "base_uri": "https://localhost:8080/"
        },
        "id": "Dm-cmAhAh_g-",
        "outputId": "64080fe3-d699-4a04-f7de-3a1c1c777f31"
      },
      "execution_count": 4,
      "outputs": [
        {
          "output_type": "execute_result",
          "data": {
            "text/plain": [
              "(tensor([[0.0290, 0.4019, 0.2598],\n",
              "         [0.3666, 0.0583, 0.7006]], device='cuda:0'),\n",
              " tensor([[0.0518, 0.4681, 0.6738],\n",
              "         [0.3315, 0.7837, 0.5631]], device='cuda:0'))"
            ]
          },
          "metadata": {},
          "execution_count": 4
        }
      ]
    },
    {
      "cell_type": "code",
      "source": [
        "tensor_C = torch.matmul(tensor_A, tensor_B.T)\n",
        "tensor_C"
      ],
      "metadata": {
        "colab": {
          "base_uri": "https://localhost:8080/"
        },
        "id": "ql5P4rkJkrGv",
        "outputId": "b5f94656-e63c-4baf-f9f3-ca6676374cf9"
      },
      "execution_count": 5,
      "outputs": [
        {
          "output_type": "execute_result",
          "data": {
            "text/plain": [
              "tensor([[0.3647, 0.4709],\n",
              "        [0.5184, 0.5617]], device='cuda:0')"
            ]
          },
          "metadata": {},
          "execution_count": 5
        }
      ]
    },
    {
      "cell_type": "code",
      "source": [
        "max_value = torch.max(tensor_C)\n",
        "max_index = torch.argmax(tensor_C)\n",
        "max_value, max_index"
      ],
      "metadata": {
        "colab": {
          "base_uri": "https://localhost:8080/"
        },
        "id": "bIafEAr3lZ-h",
        "outputId": "89440dc2-4d87-4e49-eab2-eddcc698c2fe"
      },
      "execution_count": 6,
      "outputs": [
        {
          "output_type": "execute_result",
          "data": {
            "text/plain": [
              "(tensor(0.5617, device='cuda:0'), tensor(3, device='cuda:0'))"
            ]
          },
          "metadata": {},
          "execution_count": 6
        }
      ]
    },
    {
      "cell_type": "code",
      "source": [
        "import torch\n",
        "\n",
        "torch.manual_seed(7)\n",
        "rand_tensor = torch.rand(1, 1, 1, 10)\n",
        "squeezed_tensor = rand_tensor.squeeze()\n",
        "rand_tensor, squeezed_tensor"
      ],
      "metadata": {
        "colab": {
          "base_uri": "https://localhost:8080/"
        },
        "id": "GwGl3VG_mRol",
        "outputId": "18ff2736-b903-4f21-9971-9c2e8930275d"
      },
      "execution_count": 8,
      "outputs": [
        {
          "output_type": "execute_result",
          "data": {
            "text/plain": [
              "(tensor([[[[0.5349, 0.1988, 0.6592, 0.6569, 0.2328, 0.4251, 0.2071, 0.6297,\n",
              "            0.3653, 0.8513]]]]),\n",
              " tensor([0.5349, 0.1988, 0.6592, 0.6569, 0.2328, 0.4251, 0.2071, 0.6297, 0.3653,\n",
              "         0.8513]))"
            ]
          },
          "metadata": {},
          "execution_count": 8
        }
      ]
    },
    {
      "cell_type": "code",
      "source": [],
      "metadata": {
        "id": "vt8__GAPnn--"
      },
      "execution_count": null,
      "outputs": []
    }
  ]
}